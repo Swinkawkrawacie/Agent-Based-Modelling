{
 "cells": [
  {
   "cell_type": "markdown",
   "id": "german-percentage",
   "metadata": {},
   "source": [
    "# Forest fire\n",
    "\n",
    "we're checking if the fire will get to the other side"
   ]
  },
  {
   "cell_type": "code",
   "execution_count": 285,
   "id": "coupled-tutorial",
   "metadata": {},
   "outputs": [],
   "source": [
    "import numpy as np\n",
    "from matplotlib import pyplot as plt\n",
    "import seaborn as sns\n",
    "from matplotlib.animation import FuncAnimation"
   ]
  },
  {
   "cell_type": "markdown",
   "id": "current-image",
   "metadata": {},
   "source": [
    "Jak mamy $n$ agentów w systemie, tzn. że $n$ małych updatów to jest jeden krok MC."
   ]
  },
  {
   "cell_type": "code",
   "execution_count": 139,
   "id": "presidential-subcommittee",
   "metadata": {},
   "outputs": [],
   "source": [
    "def gen_env(L, p):\n",
    "    env = np.random.choice([0,1], (L,L), p=[1-p, p])\n",
    "    env[:,0] = 2 * env[:,0]\n",
    "    return env"
   ]
  },
  {
   "cell_type": "code",
   "execution_count": 140,
   "id": "strange-stylus",
   "metadata": {},
   "outputs": [],
   "source": [
    "L = 20 #one dim size, so matrix (L,L)\n",
    "p=0.1 #density, probability of a space being populated with a tree\n",
    "base_env = gen_env(L, p)"
   ]
  },
  {
   "cell_type": "code",
   "execution_count": 294,
   "id": "based-peace",
   "metadata": {},
   "outputs": [
    {
     "data": {
      "image/png": "[encoded data removed]",
      "text/plain": [
       "<Figure size 640x480 with 2 Axes>"
      ]
     },
     "metadata": {},
     "output_type": "display_data"
    }
   ],
   "source": [
    "sns.heatmap(base_env, vmin=0, vmax=3, cmap=['black', 'green', 'red', 'saddlebrown'])\n",
    "plt.show()"
   ]
  },
  {
   "cell_type": "code",
   "execution_count": 260,
   "id": "metropolitan-annual",
   "metadata": {},
   "outputs": [],
   "source": [
    "class ClusterCounter:\n",
    "    \n",
    "    def __init__(self, env):\n",
    "        self.burnt_env = np.zeros((env.shape[0]+2, env.shape[1]+2), dtype=int)\n",
    "        self.burnt_env[1:-1, 1:-1] = (env.copy()==3)\n",
    "        self.max_label = 0\n",
    "        self.label = np.zeros(self.burnt_env.shape, dtype=int)\n",
    "        self.labels = np.arange(self.burnt_env.size+1, dtype=int)\n",
    "\n",
    "    def get_label(self, tag):\n",
    "        y = tag.copy()\n",
    "        while self.labels[y] != y:\n",
    "            y = self.labels[y].copy()\n",
    "        while self.labels[tag] != tag:\n",
    "            z = self.labels[tag].copy()\n",
    "            self.labels[tag] = y\n",
    "            tag = z.copy()\n",
    "        return y.copy()\n",
    "\n",
    "    def union_labels(self, tags):\n",
    "        last_tag = tags.pop()\n",
    "        for tag in tags:\n",
    "            self.labels[self.get_label(tag)] = self.get_label(last_tag)\n",
    "\n",
    "    def find_clusters(self):\n",
    "        for j in range(1, self.burnt_env.shape[1]-1):\n",
    "            for i in range(1, self.burnt_env.shape[0]-1):\n",
    "                if self.burnt_env[i,j]>0:\n",
    "                    l = self.label[i, j-1]\n",
    "                    t = self.label[i-1, j]\n",
    "                    c = self.label[i-1, j-1]\n",
    "                    if l+t+c == 0:\n",
    "                        self.max_label += 1 #new label coz no neibhours have one\n",
    "                        self.label[i,j] = self.max_label\n",
    "                    elif (l>0) and (t+c == 0):\n",
    "                        self.label[i,j] = self.get_label(l)\n",
    "                    elif (t>0) and (l+c == 0):\n",
    "                        self.label[i,j] = self.get_label(t)\n",
    "                    elif (c>0) and (t+l == 0):\n",
    "                        self.label[i,j] = self.get_label(c)\n",
    "                    else:\n",
    "                        filled_neigh = list(filter(lambda x: x>0, [l,t,c]))\n",
    "                        self.union_labels(filled_neigh)\n",
    "                        self.label[i,j] = self.get_label(filled_neigh[0])        \n",
    "        return self.label[1:-1, 1:-1]\n",
    "    \n",
    "    def find_max_cluster(self):\n",
    "        clusters = self.find_clusters().ravel()\n",
    "        if clusters.sum() == 0:\n",
    "            return 0\n",
    "        non_empty = list(filter(lambda x: x>0, clusters))\n",
    "        _, counts = np.unique(non_empty, return_counts=True)\n",
    "        return max(counts)\n",
    "        \n",
    "#implement but remember that there is a diff neighbourhood, cluster size"
   ]
  },
  {
   "cell_type": "code",
   "execution_count": 261,
   "id": "young-appendix",
   "metadata": {},
   "outputs": [],
   "source": [
    "def get_neigh(L, x, y):\n",
    "    neigh_border = np.array([max(0, x-1),min(L, x+2), max(0, y-1), min(L, y+2)])\n",
    "    return neigh_border\n",
    "\n",
    "def update(env):\n",
    "    base_env = env.copy()\n",
    "    x,y = np.where(base_env==2)\n",
    "    for i in range(len(x)):\n",
    "        x_min, x_max, y_min, y_max = get_neigh(base_env.shape[0], x[i], y[i])\n",
    "        env[x_min:x_max, y_min:y_max] = base_env[x_min:x_max, y_min:y_max] + (base_env[x_min:x_max, y_min:y_max]==1)\n",
    "    env += (base_env == 2)\n",
    "    return env.copy()\n",
    "\n",
    "def sim(env):\n",
    "    while np.where(env==2)[0].size > 0:\n",
    "        env = update(env)\n",
    "    return env\n",
    "\n",
    "def run_forest_fire(L, ps, M):\n",
    "    ms = []\n",
    "    cs = []\n",
    "    for p in ps:\n",
    "        m = 0\n",
    "        c = 0\n",
    "        for i in range(M):\n",
    "            env = gen_env(L, p)\n",
    "            env = sim(env)\n",
    "            m += 1 if sum(env[:,-1]==3) > 0 else 0\n",
    "            c += ClusterCounter(env).find_max_cluster()\n",
    "        cs.append(c/M)\n",
    "        ms.append(m/M)\n",
    "        \n",
    "    return ms, cs"
   ]
  },
  {
   "cell_type": "code",
   "execution_count": 279,
   "id": "considered-albany",
   "metadata": {},
   "outputs": [],
   "source": [
    "def get_full_sim(env):\n",
    "    full_states = [env.copy()]\n",
    "    while np.where(env==2)[0].size > 0:\n",
    "        env = update(env)\n",
    "        full_states.append(env.copy())\n",
    "    return full_states"
   ]
  },
  {
   "cell_type": "markdown",
   "id": "filled-medicine",
   "metadata": {},
   "source": [
    "$L=20$"
   ]
  },
  {
   "cell_type": "code",
   "execution_count": 280,
   "id": "soviet-violin",
   "metadata": {},
   "outputs": [],
   "source": [
    "sample_env_burn = gen_env(L=20, p=0.5)\n",
    "sample_env_burn = get_full_sim(sample_env_burn)\n",
    "sample_env_safe = gen_env(L=20, p=0.2)\n",
    "sample_env_safe = get_full_sim(sample_env_safe)"
   ]
  },
  {
   "cell_type": "code",
   "execution_count": 295,
   "id": "insured-guest",
   "metadata": {},
   "outputs": [],
   "source": [
    "def make_animation(state, step):\n",
    "    plt.clf()  \n",
    "    plt.title(f\"State at {step} MCS\")\n",
    "    sns.heatmap(state, vmin=0, vmax=3, cmap=['black', 'green', 'red', 'saddlebrown'])\n",
    "    return plt"
   ]
  },
  {
   "cell_type": "code",
   "execution_count": 296,
   "id": "premier-individual",
   "metadata": {},
   "outputs": [],
   "source": [
    "def animate(step):\n",
    "    make_animation(sample_env_burn[step], step)\n",
    "\n",
    "fig = plt.figure()\n",
    "anim = FuncAnimation(fig, animate, frames=len(sample_env_burn), interval=1, repeat=False)\n",
    "anim.save(\"states_20_burn.gif\")\n",
    "plt.close(fig)"
   ]
  },
  {
   "cell_type": "code",
   "execution_count": 297,
   "id": "adjusted-scheme",
   "metadata": {},
   "outputs": [],
   "source": [
    "def animate(step):\n",
    "    make_animation(sample_env_safe[step], step)\n",
    "\n",
    "fig = plt.figure()\n",
    "anim = FuncAnimation(fig, animate, frames=len(sample_env_safe), interval=1, repeat=False)\n",
    "anim.save(\"states_20_safe.gif\")\n",
    "plt.close(fig)"
   ]
  },
  {
   "cell_type": "markdown",
   "id": "optimum-yorkshire",
   "metadata": {},
   "source": [
    "$L=100$"
   ]
  },
  {
   "cell_type": "code",
   "execution_count": 298,
   "id": "african-alfred",
   "metadata": {},
   "outputs": [],
   "source": [
    "sample_env_burn100 = gen_env(L=100, p=0.5)\n",
    "sample_env_burn100 = get_full_sim(sample_env_burn100)\n",
    "sample_env_safe100 = gen_env(L=100, p=0.2)\n",
    "sample_env_safe100 = get_full_sim(sample_env_safe100)"
   ]
  },
  {
   "cell_type": "code",
   "execution_count": 299,
   "id": "hundred-cleaners",
   "metadata": {},
   "outputs": [],
   "source": [
    "def animate(step):\n",
    "    make_animation(sample_env_burn100[step], step)\n",
    "\n",
    "fig = plt.figure()\n",
    "anim = FuncAnimation(fig, animate, frames=len(sample_env_burn100), interval=1, repeat=False)\n",
    "anim.save(\"states_100_burn.gif\")\n",
    "plt.close(fig)"
   ]
  },
  {
   "cell_type": "code",
   "execution_count": 300,
   "id": "indonesian-executive",
   "metadata": {},
   "outputs": [],
   "source": [
    "def animate(step):\n",
    "    make_animation(sample_env_safe100[step], step)\n",
    "\n",
    "fig = plt.figure()\n",
    "anim = FuncAnimation(fig, animate, frames=len(sample_env_safe100), interval=1, repeat=False)\n",
    "anim.save(\"states_100_safe.gif\")\n",
    "plt.close(fig)"
   ]
  },
  {
   "cell_type": "markdown",
   "id": "recognized-fluid",
   "metadata": {},
   "source": [
    "## Monte Carlo simulation "
   ]
  },
  {
   "cell_type": "code",
   "execution_count": 265,
   "id": "sufficient-mortgage",
   "metadata": {},
   "outputs": [],
   "source": [
    "M=100\n",
    "Ls = [20,50,100]\n",
    "ps = np.arange(0,1.01,0.01)\n",
    "ms = np.zeros((len(Ls),len(ps)))\n",
    "clusters = np.zeros((len(Ls),len(ps)))\n",
    "for n in range(len(Ls)):\n",
    "    m_t, c_t = run_forest_fire(Ls[n], ps, M)\n",
    "    ms[n,:] = m_t\n",
    "    clusters[n,:] = c_t"
   ]
  },
  {
   "cell_type": "code",
   "execution_count": 266,
   "id": "smooth-clarity",
   "metadata": {},
   "outputs": [
    {
     "data": {
      "image/png": "[encoded data removed]",
      "text/plain": [
       "<Figure size 640x480 with 1 Axes>"
      ]
     },
     "metadata": {},
     "output_type": "display_data"
    }
   ],
   "source": [
    "marker_dict = {20: '^',\n",
    "               50: '*',\n",
    "               100: 'o'}\n",
    "color_dict = {20: 'skyblue',\n",
    "              50: 'violet',\n",
    "              100: 'hotpink'}\n",
    "\n",
    "for n in range(len(Ls)):\n",
    "    plt.scatter(ps, \n",
    "                ms[n,:], \n",
    "                marker=marker_dict[Ls[n]], \n",
    "                s=10, \n",
    "                c = color_dict[Ls[n]], \n",
    "                label = f'$L={Ls[n]}$')\n",
    "plt.axhline(y=0.9, linestyle='--', color='gray', label='$P(S)=0.9$')\n",
    "plt.xlabel('$p$ - density')\n",
    "plt.ylabel('P(S) - probability of success')\n",
    "plt.legend()\n",
    "plt.show()"
   ]
  },
  {
   "cell_type": "code",
   "execution_count": 271,
   "id": "progressive-stock",
   "metadata": {},
   "outputs": [
    {
     "name": "stdout",
     "output_type": "stream",
     "text": [
      "With L=20 for p*=0.48, P(S) exceeds 0.9\n",
      "With L=50 for p*=0.48, P(S) exceeds 0.9\n",
      "With L=100 for p*=0.48, P(S) exceeds 0.9\n"
     ]
    }
   ],
   "source": [
    "for i in range(3):\n",
    "    pq = ps[np.where(np.asarray(ms[0,:])>0.9)[0][0]]\n",
    "    print(f'With L={Ls[i]} for p*={pq}, P(S) exceeds 0.9')"
   ]
  },
  {
   "cell_type": "code",
   "execution_count": 268,
   "id": "organizational-reach",
   "metadata": {},
   "outputs": [
    {
     "data": {
      "image/png": "[encoded data removed]",
      "text/plain": [
       "<Figure size 640x480 with 1 Axes>"
      ]
     },
     "metadata": {},
     "output_type": "display_data"
    }
   ],
   "source": [
    "for n in range(len(Ls)):\n",
    "    plt.scatter(ps, \n",
    "                list(map(lambda x: x/(Ls[n]**2), clusters[n,:])), \n",
    "                marker=marker_dict[Ls[n]], \n",
    "                s=10, \n",
    "                c = color_dict[Ls[n]], \n",
    "                label = f'$L={Ls[n]}$')\n",
    "plt.xlabel('$p$ - density')\n",
    "plt.ylabel('Size of the biggest cluster')\n",
    "plt.legend()\n",
    "plt.show()"
   ]
  },
  {
   "cell_type": "markdown",
   "id": "personal-asset",
   "metadata": {},
   "source": [
    "p* tam gdzie P of success P(S) jest powyżej 0.9\n",
    "\n",
    "GIF or shots 3x3 co ileś kroków"
   ]
  },
  {
   "cell_type": "code",
   "execution_count": 64,
   "id": "acceptable-gallery",
   "metadata": {},
   "outputs": [
    {
     "name": "stdout",
     "output_type": "stream",
     "text": [
      "3\n",
      "8\n",
      "16\n",
      "18\n"
     ]
    }
   ],
   "source": [
    "for i in range(len(x)):\n",
    "    print(x[i])"
   ]
  },
  {
   "cell_type": "markdown",
   "id": "rolled-vegetation",
   "metadata": {},
   "source": [
    "Unormowane /L^2 size of cluster(p)"
   ]
  },
  {
   "cell_type": "code",
   "execution_count": 72,
   "id": "polar-pavilion",
   "metadata": {},
   "outputs": [
    {
     "data": {
      "text/plain": [
       "array([0, 1, 0, 1])"
      ]
     },
     "execution_count": 72,
     "metadata": {},
     "output_type": "execute_result"
    }
   ],
   "source": [
    "get_neigh(20, 0, 0)"
   ]
  },
  {
   "cell_type": "code",
   "execution_count": 69,
   "id": "presidential-reservoir",
   "metadata": {},
   "outputs": [
    {
     "data": {
      "text/plain": [
       "array([False,  True, False,  True])"
      ]
     },
     "execution_count": 69,
     "metadata": {},
     "output_type": "execute_result"
    }
   ],
   "source": [
    "x=1\n",
    "y=1\n",
    "np.array([x-1,x+1, y-1, y+1])>0"
   ]
  },
  {
   "cell_type": "markdown",
   "id": "absent-submission",
   "metadata": {},
   "source": [
    "Bonusowe punkty:\n",
    "\n",
    "Wind:\n",
    "* Wiatr tylko pomaga, czyli jeśli gdzieś wieje to tam jeszcze extra pole\n",
    "* Wiatr przeszkadza, czyli nie rozprzestrzenia się do tyłu (tutaj raczej wiatr góra dół)\n",
    "* I blokuje i pomaga\n",
    "\n",
    "Można rozważać z siłą wiatru\n",
    "\n",
    "Raczej dwa wiatry czy coś\n",
    "\n",
    "I dorobić to samo"
   ]
  },
  {
   "cell_type": "code",
   "execution_count": 57,
   "id": "mexican-pulse",
   "metadata": {},
   "outputs": [
    {
     "data": {
      "text/plain": [
       "(20, 20)"
      ]
     },
     "execution_count": 57,
     "metadata": {},
     "output_type": "execute_result"
    }
   ],
   "source": [
    "env.shape"
   ]
  },
  {
   "cell_type": "markdown",
   "id": "ruled-supervisor",
   "metadata": {},
   "source": [
    "Wyniki:\n",
    "\n",
    "GIF\n",
    "P(S) od p dla trzech rozmiarów, legenda, trójkąty gwiazdki"
   ]
  }
 ],
 "metadata": {
  "kernelspec": {
   "display_name": "python11",
   "language": "python",
   "name": "python11"
  },
  "language_info": {
   "codemirror_mode": {
    "name": "ipython",
    "version": 3
   },
   "file_extension": ".py",
   "mimetype": "text/x-python",
   "name": "python",
   "nbconvert_exporter": "python",
   "pygments_lexer": "ipython3",
   "version": "3.11.8"
  }
 },
 "nbformat": 4,
 "nbformat_minor": 5
}
