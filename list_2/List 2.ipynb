{
 "cells": [
  {
   "cell_type": "markdown",
   "id": "familiar-original",
   "metadata": {},
   "source": [
    "# Game of life"
   ]
  },
  {
   "cell_type": "markdown",
   "id": "respective-multiple",
   "metadata": {},
   "source": [
    "## Imports"
   ]
  },
  {
   "cell_type": "code",
   "execution_count": 1,
   "id": "willing-apparel",
   "metadata": {},
   "outputs": [],
   "source": [
    "import numpy as np\n",
    "from matplotlib import pyplot as plt\n",
    "import seaborn as sns\n",
    "from matplotlib.animation import FuncAnimation"
   ]
  },
  {
   "cell_type": "markdown",
   "id": "square-channels",
   "metadata": {},
   "source": [
    "## Game of life algorithm implementation"
   ]
  },
  {
   "cell_type": "code",
   "execution_count": 20,
   "id": "driving-amazon",
   "metadata": {},
   "outputs": [],
   "source": [
    "class GameOfLife:\n",
    "    \n",
    "    def __init__(self, L=None, file_name=None):\n",
    "        if file_name:\n",
    "            env = self.gen_txt_env(file_name)\n",
    "            self.L = env.shape[0]\n",
    "        else:\n",
    "            self.L = L\n",
    "            env = self.gen_rand_env()\n",
    "            \n",
    "        self.init_config = env.copy()\n",
    "        self.env = np.pad(env, pad_width=1, mode='wrap')\n",
    "        self.history = [env.copy()]\n",
    "        \n",
    "    def gen_txt_env(self, file_name):\n",
    "        return np.loadtxt(file_name)\n",
    "        \n",
    "    def gen_rand_env(self):\n",
    "        return np.random.choice([0,1], size=self.L**2, p=[0.5, 0.5]).reshape((self.L, self.L))\n",
    "        \n",
    "    def get_neigh(self, x, y):\n",
    "        return [max(0, x-1), min(self.L+2, x+2), max(0, y-1), min(self.L+2, y+2)]\n",
    "    \n",
    "    def get_new_status(self, x, y):\n",
    "        base_state = self.env.copy()[x, y]\n",
    "        x_min, x_max, y_min, y_max = self.get_neigh(x, y)\n",
    "        neigh = self.env[x_min:x_max, y_min:y_max].sum() - base_state\n",
    "        if neigh == 3:\n",
    "            return 1\n",
    "        if neigh not in [2, 3]:\n",
    "            return 0\n",
    "        return base_state\n",
    "    \n",
    "    def run_single_step(self):\n",
    "        new_env = self.env.copy()\n",
    "        for i in range(1, self.L+1):\n",
    "            for j in range(1, self.L+1):\n",
    "                new_env[i,j] = self.get_new_status(i, j)\n",
    "        self.env = np.pad(new_env[1:-1, 1:-1].copy(), pad_width=1, mode='wrap')\n",
    "        \n",
    "    def sim(self, n):\n",
    "        for i in range(n):\n",
    "            self.run_single_step()\n",
    "            self.history.append(self.env.copy()[1:-1, 1:-1])"
   ]
  },
  {
   "cell_type": "code",
   "execution_count": 3,
   "id": "saved-handbook",
   "metadata": {},
   "outputs": [],
   "source": [
    "gl1 = GameOfLife(100)"
   ]
  },
  {
   "cell_type": "code",
   "execution_count": 110,
   "id": "annual-mercury",
   "metadata": {},
   "outputs": [],
   "source": [
    "gl1.sim(100)"
   ]
  },
  {
   "cell_type": "code",
   "execution_count": 121,
   "id": "scenic-uganda",
   "metadata": {},
   "outputs": [],
   "source": [
    "np.savetxt('init_config_100.txt', gl1.init_config)"
   ]
  },
  {
   "cell_type": "markdown",
   "id": "atlantic-holmes",
   "metadata": {},
   "source": [
    "3 animacje, 3 init config - do pliku txt"
   ]
  },
  {
   "cell_type": "markdown",
   "id": "vital-northeast",
   "metadata": {},
   "source": [
    "## Interesting simulations"
   ]
  },
  {
   "cell_type": "code",
   "execution_count": 5,
   "id": "advised-mailman",
   "metadata": {},
   "outputs": [],
   "source": [
    "def make_animation(state, step, size):\n",
    "    plt.clf()  \n",
    "    plt.title(f\"State at {step} time step for {size} env\")\n",
    "    sns.heatmap(state, vmin=0, vmax=1, cmap=['black', 'pink'])\n",
    "    return plt"
   ]
  },
  {
   "cell_type": "code",
   "execution_count": 22,
   "id": "outstanding-there",
   "metadata": {},
   "outputs": [],
   "source": [
    "gl10 = GameOfLife(file_name = 'init_config_10.txt')\n",
    "gl10.sim(1000)\n",
    "\n",
    "def animate(step):\n",
    "    make_animation(gl10.history[step], step, 10)\n",
    "\n",
    "fig = plt.figure()\n",
    "anim = FuncAnimation(fig, animate, frames=len(gl10.history), interval=3, repeat=False)\n",
    "anim.save(\"state_10.gif\")\n",
    "plt.close(fig)"
   ]
  },
  {
   "cell_type": "code",
   "execution_count": 23,
   "id": "distinct-miracle",
   "metadata": {},
   "outputs": [],
   "source": [
    "gl20 = GameOfLife(file_name = 'init_config_20.txt')\n",
    "gl20.sim(1000)\n",
    "\n",
    "def animate(step):\n",
    "    make_animation(gl20.history[step], step, 20)\n",
    "\n",
    "fig = plt.figure()\n",
    "anim = FuncAnimation(fig, animate, frames=len(gl20.history), interval=3, repeat=False)\n",
    "anim.save(\"state_20.gif\")\n",
    "plt.close(fig)"
   ]
  },
  {
   "cell_type": "code",
   "execution_count": 24,
   "id": "large-mortgage",
   "metadata": {},
   "outputs": [],
   "source": [
    "gl50 = GameOfLife(file_name = 'init_config_50.txt')\n",
    "gl50.sim(1000)\n",
    "\n",
    "def animate(step):\n",
    "    make_animation(gl50.history[step], step, 50)\n",
    "\n",
    "fig = plt.figure()\n",
    "anim = FuncAnimation(fig, animate, frames=len(gl50.history), interval=3, repeat=False)\n",
    "anim.save(\"state_50.gif\")\n",
    "plt.close(fig)"
   ]
  },
  {
   "cell_type": "code",
   "execution_count": 25,
   "id": "secondary-animal",
   "metadata": {},
   "outputs": [],
   "source": [
    "gl100 = GameOfLife(file_name = 'init_config_100.txt')\n",
    "gl100.sim(1000)\n",
    "\n",
    "def animate(step):\n",
    "    make_animation(gl100.history[step], step, 100)\n",
    "\n",
    "fig = plt.figure()\n",
    "anim = FuncAnimation(fig, animate, frames=len(gl100.history), interval=3, repeat=False)\n",
    "anim.save(\"state_100.gif\")\n",
    "plt.close(fig)"
   ]
  },
  {
   "cell_type": "code",
   "execution_count": null,
   "id": "scenic-participation",
   "metadata": {},
   "outputs": [],
   "source": []
  }
 ],
 "metadata": {
  "kernelspec": {
   "display_name": "python11",
   "language": "python",
   "name": "python11"
  },
  "language_info": {
   "codemirror_mode": {
    "name": "ipython",
    "version": 3
   },
   "file_extension": ".py",
   "mimetype": "text/x-python",
   "name": "python",
   "nbconvert_exporter": "python",
   "pygments_lexer": "ipython3",
   "version": "3.11.8"
  }
 },
 "nbformat": 4,
 "nbformat_minor": 5
}
